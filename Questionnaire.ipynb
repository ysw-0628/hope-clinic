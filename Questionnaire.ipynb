{
 "cells": [
  {
   "cell_type": "code",
   "execution_count": 3,
   "id": "6c64fc9b",
   "metadata": {},
   "outputs": [],
   "source": [
    "\n"
   ]
  },
  {
   "cell_type": "code",
   "execution_count": 5,
   "id": "bf651fd4",
   "metadata": {},
   "outputs": [],
   "source": [
    "#initialization\n",
    "import sys\n",
    "from PyQt5 import QtWidgets, QtGui\n",
    "from PyQt5.QtWidgets import QApplication, QWidget, QLabel, QLineEdit, QComboBox, QRadioButton, QPushButton, QVBoxLayout\n",
    "from PyQt5.QtGui import Qpixmap\n",
    "from PyQt5 import QtGui, Qtcore\n",
    "from PyQt5.QtGui import Qcursor\n"
   ]
  },
  {
   "cell_type": "code",
   "execution_count": null,
   "id": "45466243",
   "metadata": {},
   "outputs": [],
   "source": [
    "#Create Subclass\n",
    "class Questionnaire(QWidget):\n",
    "    def __init__(self):\n",
    "        super().__init__()\n",
    "        self.questions = [\n",
    "            (\"What is your name?\",[], \"\"),\n",
    "            (\"What is your age?\",[], \"\"),\n",
    "            # Add the remaining questions here\n",
    "        ]\n",
    "        self.current_question = 0\n",
    "        self.initUI()\n"
   ]
  },
  {
   "cell_type": "code",
   "execution_count": null,
   "id": "c07830b7",
   "metadata": {},
   "outputs": [],
   "source": [
    "#set UI\n",
    "\n",
    "    def initUI(self):\n",
    "        self.question = QLabel(self.questions[self.current_question][0])\n",
    "        self.options = QButtonGroup()\n",
    "        self.option_buttons = []\n",
    "        for option in self.questions[self.current_question][1]:\n",
    "            option_button = QRadioButton(option)\n",
    "            self.options.addButton(option_button)\n",
    "            self.option_buttons.append(option_button)\n",
    "        selected_option = self.questions[self.current_question][2]\n",
    "        if selected_option:\n",
    "            for i, option_button in enumerate(self.option_buttons):\n",
    "                if option_button.text() == selected_option:\n",
    "                    option_button.setChecked(True)\n",
    "                    break\n",
    "        self.next_button = QPushButton(\"Next\")\n",
    "        self.next_button.clicked.connect(self.next_question)\n",
    "\n",
    "        layout = QVBoxLayout()\n",
    "        layout.addWidget(self.question)\n",
    "        for option_button in self.option_buttons:\n",
    "            layout.addWidget(option_button)\n",
    "        layout.addWidget(self.next_button)\n",
    "        self.setLayout(layout)\n"
   ]
  },
  {
   "cell_type": "code",
   "execution_count": null,
   "id": "7b745060",
   "metadata": {},
   "outputs": [],
   "source": [
    "#next question\n",
    " def next_question(self):\n",
    "        selected_option = self.options.checkedButton().text() if self.options.checkedButton() else None\n",
    "        if selected_option:\n",
    "            self.questions[self.current_question] = (self.questions[self.current_question][0], self.questions[self.current_question][1], selected_option)\n",
    "            self.current_question += 1\n",
    "            if self.current_question < len(self.questions):\n",
    "                self.question.setText(self.questions[self.current_question][0])\n",
    "                self.options.clear()\n",
    "                self.option_buttons = []\n",
    "                for option in self.questions[self.current_question][1]:\n",
    "                    option_button = QRadioButton(option)\n",
    "                    self.options.addButton(option_button)\n",
    "                    self.option_buttons.append(option_button)\n",
    "                selected_option = self.questions[self.current_question][2]\n",
    "                if selected_option:\n",
    "                    for i, option_button in enumerate(self.option_buttons):\n",
    "                        if option_button.text() == selected_option:\n",
    "                            option_button.setChecked(True)\n",
    "                            break\n",
    "                            self.next_button.setText(\"Next\")\n",
    "                        else:\n",
    "                            self.question.setText(\"Questionnaire complete!\")\n",
    "                            self.next_button.setText(\"Close\")\n",
    "                            self.next_button.clicked.disconnect()\n",
    "                            self.next_button.clicked.connect(self.close)\n",
    "                else:\n",
    "                        self.question.setText(\"Please select an option.\")\n"
   ]
  },
  {
   "cell_type": "code",
   "execution_count": null,
   "id": "e4996bd2",
   "metadata": {},
   "outputs": [],
   "source": [
    "#function to call out the questionnaire\n",
    "if __name__ == '__main__':\n",
    "    app = QApplication(sys.argv)\n",
    "    questionnaire = Questionnaire()\n",
    "    questionnaire.show()\n",
    "    sys.exit(app.exec_())"
   ]
  }
 ],
 "metadata": {
  "kernelspec": {
   "display_name": "Python 3",
   "language": "python",
   "name": "python3"
  },
  "language_info": {
   "codemirror_mode": {
    "name": "ipython",
    "version": 3
   },
   "file_extension": ".py",
   "mimetype": "text/x-python",
   "name": "python",
   "nbconvert_exporter": "python",
   "pygments_lexer": "ipython3",
   "version": "3.8.8"
  }
 },
 "nbformat": 4,
 "nbformat_minor": 5
}
